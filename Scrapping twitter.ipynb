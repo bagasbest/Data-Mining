{
 "cells": [
  {
   "cell_type": "code",
   "execution_count": 1,
   "metadata": {},
   "outputs": [
    {
     "name": "stdout",
     "output_type": "stream",
     "text": [
      "Requirement already satisfied: tweepy in c:\\users\\user\\anaconda3\\lib\\site-packages (3.8.0)\n",
      "Requirement already satisfied: PySocks>=1.5.7 in c:\\users\\user\\anaconda3\\lib\\site-packages (from tweepy) (1.7.1)\n",
      "Requirement already satisfied: six>=1.10.0 in c:\\users\\user\\anaconda3\\lib\\site-packages (from tweepy) (1.12.0)\n",
      "Requirement already satisfied: requests-oauthlib>=0.7.0 in c:\\users\\user\\anaconda3\\lib\\site-packages (from tweepy) (1.3.0)\n",
      "Requirement already satisfied: requests>=2.11.1 in c:\\users\\user\\anaconda3\\lib\\site-packages (from tweepy) (2.22.0)\n",
      "Requirement already satisfied: oauthlib>=3.0.0 in c:\\users\\user\\anaconda3\\lib\\site-packages (from requests-oauthlib>=0.7.0->tweepy) (3.1.0)\n",
      "Requirement already satisfied: certifi>=2017.4.17 in c:\\users\\user\\anaconda3\\lib\\site-packages (from requests>=2.11.1->tweepy) (2019.9.11)\n",
      "Requirement already satisfied: urllib3!=1.25.0,!=1.25.1,<1.26,>=1.21.1 in c:\\users\\user\\anaconda3\\lib\\site-packages (from requests>=2.11.1->tweepy) (1.24.2)\n",
      "Requirement already satisfied: idna<2.9,>=2.5 in c:\\users\\user\\anaconda3\\lib\\site-packages (from requests>=2.11.1->tweepy) (2.8)\n",
      "Requirement already satisfied: chardet<3.1.0,>=3.0.2 in c:\\users\\user\\anaconda3\\lib\\site-packages (from requests>=2.11.1->tweepy) (3.0.4)\n",
      "Note: you may need to restart the kernel to use updated packages.\n"
     ]
    }
   ],
   "source": [
    "pip install tweepy"
   ]
  },
  {
   "cell_type": "code",
   "execution_count": 1,
   "metadata": {},
   "outputs": [
    {
     "name": "stdout",
     "output_type": "stream",
     "text": [
      "Requirement already satisfied: tweepy in c:\\users\\user\\anaconda3\\lib\\site-packages (3.8.0)\n",
      "Requirement already satisfied: PySocks>=1.5.7 in c:\\users\\user\\anaconda3\\lib\\site-packages (from tweepy) (1.7.1)\n",
      "Requirement already satisfied: six>=1.10.0 in c:\\users\\user\\anaconda3\\lib\\site-packages (from tweepy) (1.12.0)\n",
      "Requirement already satisfied: requests>=2.11.1 in c:\\users\\user\\anaconda3\\lib\\site-packages (from tweepy) (2.22.0)\n",
      "Requirement already satisfied: requests-oauthlib>=0.7.0 in c:\\users\\user\\anaconda3\\lib\\site-packages (from tweepy) (1.3.0)\n",
      "Requirement already satisfied: urllib3!=1.25.0,!=1.25.1,<1.26,>=1.21.1 in c:\\users\\user\\anaconda3\\lib\\site-packages (from requests>=2.11.1->tweepy) (1.24.2)\n",
      "Requirement already satisfied: chardet<3.1.0,>=3.0.2 in c:\\users\\user\\anaconda3\\lib\\site-packages (from requests>=2.11.1->tweepy) (3.0.4)\n",
      "Requirement already satisfied: certifi>=2017.4.17 in c:\\users\\user\\anaconda3\\lib\\site-packages (from requests>=2.11.1->tweepy) (2019.9.11)\n",
      "Requirement already satisfied: idna<2.9,>=2.5 in c:\\users\\user\\anaconda3\\lib\\site-packages (from requests>=2.11.1->tweepy) (2.8)\n",
      "Requirement already satisfied: oauthlib>=3.0.0 in c:\\users\\user\\anaconda3\\lib\\site-packages (from requests-oauthlib>=0.7.0->tweepy) (3.1.0)\n",
      "Note: you may need to restart the kernel to use updated packages.\n"
     ]
    }
   ],
   "source": [
    "pip install tweepy\n"
   ]
  },
  {
   "cell_type": "code",
   "execution_count": 3,
   "metadata": {},
   "outputs": [],
   "source": [
    "consumer_key = \"snrIAe6rAm9tenTKAdfalte3b\"\n",
    "consumer_key_secret = \"O8RNbyoxLMPQ1fOiTQ5xhTD3bkwN43W8Ky1i6KdZAh6pdmbRfV\"\n",
    "access_key = \"1147311534797807616-iuAwf3unCThkdJuT9tZj4ER9Qj9Itf\"\n",
    "access_key_secret = \"U1RzCnGrCDttW5Ha0pKP5N7GtfcRYLsRLXky33qLx1N50\""
   ]
  },
  {
   "cell_type": "code",
   "execution_count": 4,
   "metadata": {},
   "outputs": [],
   "source": [
    "import tweepy\n",
    "import pandas as pd\n",
    "auth = tweepy.OAuthHandler(consumer_key, consumer_key_secret)\n",
    "auth.set_access_token(access_key, access_key_secret)\n",
    "api = tweepy.API(auth)"
   ]
  },
  {
   "cell_type": "code",
   "execution_count": null,
   "metadata": {},
   "outputs": [],
   "source": []
  },
  {
   "cell_type": "code",
   "execution_count": 5,
   "metadata": {},
   "outputs": [
    {
     "data": {
      "text/plain": [
       "Status(_api=<tweepy.api.API object at 0x000002670EBA3FC8>, _json={'created_at': 'Fri Mar 13 04:04:44 +0000 2020', 'id': 1238315029251817472, 'id_str': '1238315029251817472', 'text': 'Test 123', 'truncated': False, 'entities': {'hashtags': [], 'symbols': [], 'user_mentions': [], 'urls': []}, 'source': '<a href=\"https://crawlingdata.com\" rel=\"nofollow\">Crawling Datav.1</a>', 'in_reply_to_status_id': None, 'in_reply_to_status_id_str': None, 'in_reply_to_user_id': None, 'in_reply_to_user_id_str': None, 'in_reply_to_screen_name': None, 'user': {'id': 1147311534797807616, 'id_str': '1147311534797807616', 'name': 'Prakoso', 'screen_name': 'Prakoso98543610', 'location': '', 'description': '', 'url': None, 'entities': {'description': {'urls': []}}, 'protected': False, 'followers_count': 0, 'friends_count': 0, 'listed_count': 0, 'created_at': 'Sat Jul 06 01:09:20 +0000 2019', 'favourites_count': 1, 'utc_offset': None, 'time_zone': None, 'geo_enabled': False, 'verified': False, 'statuses_count': 1, 'lang': None, 'contributors_enabled': False, 'is_translator': False, 'is_translation_enabled': False, 'profile_background_color': 'F5F8FA', 'profile_background_image_url': None, 'profile_background_image_url_https': None, 'profile_background_tile': False, 'profile_image_url': 'http://abs.twimg.com/sticky/default_profile_images/default_profile_normal.png', 'profile_image_url_https': 'https://abs.twimg.com/sticky/default_profile_images/default_profile_normal.png', 'profile_link_color': '1DA1F2', 'profile_sidebar_border_color': 'C0DEED', 'profile_sidebar_fill_color': 'DDEEF6', 'profile_text_color': '333333', 'profile_use_background_image': True, 'has_extended_profile': False, 'default_profile': True, 'default_profile_image': True, 'following': False, 'follow_request_sent': False, 'notifications': False, 'translator_type': 'none'}, 'geo': None, 'coordinates': None, 'place': None, 'contributors': None, 'is_quote_status': False, 'retweet_count': 0, 'favorite_count': 0, 'favorited': False, 'retweeted': False, 'lang': 'en'}, created_at=datetime.datetime(2020, 3, 13, 4, 4, 44), id=1238315029251817472, id_str='1238315029251817472', text='Test 123', truncated=False, entities={'hashtags': [], 'symbols': [], 'user_mentions': [], 'urls': []}, source='Crawling Datav.1', source_url='https://crawlingdata.com', in_reply_to_status_id=None, in_reply_to_status_id_str=None, in_reply_to_user_id=None, in_reply_to_user_id_str=None, in_reply_to_screen_name=None, author=User(_api=<tweepy.api.API object at 0x000002670EBA3FC8>, _json={'id': 1147311534797807616, 'id_str': '1147311534797807616', 'name': 'Prakoso', 'screen_name': 'Prakoso98543610', 'location': '', 'description': '', 'url': None, 'entities': {'description': {'urls': []}}, 'protected': False, 'followers_count': 0, 'friends_count': 0, 'listed_count': 0, 'created_at': 'Sat Jul 06 01:09:20 +0000 2019', 'favourites_count': 1, 'utc_offset': None, 'time_zone': None, 'geo_enabled': False, 'verified': False, 'statuses_count': 1, 'lang': None, 'contributors_enabled': False, 'is_translator': False, 'is_translation_enabled': False, 'profile_background_color': 'F5F8FA', 'profile_background_image_url': None, 'profile_background_image_url_https': None, 'profile_background_tile': False, 'profile_image_url': 'http://abs.twimg.com/sticky/default_profile_images/default_profile_normal.png', 'profile_image_url_https': 'https://abs.twimg.com/sticky/default_profile_images/default_profile_normal.png', 'profile_link_color': '1DA1F2', 'profile_sidebar_border_color': 'C0DEED', 'profile_sidebar_fill_color': 'DDEEF6', 'profile_text_color': '333333', 'profile_use_background_image': True, 'has_extended_profile': False, 'default_profile': True, 'default_profile_image': True, 'following': False, 'follow_request_sent': False, 'notifications': False, 'translator_type': 'none'}, id=1147311534797807616, id_str='1147311534797807616', name='Prakoso', screen_name='Prakoso98543610', location='', description='', url=None, entities={'description': {'urls': []}}, protected=False, followers_count=0, friends_count=0, listed_count=0, created_at=datetime.datetime(2019, 7, 6, 1, 9, 20), favourites_count=1, utc_offset=None, time_zone=None, geo_enabled=False, verified=False, statuses_count=1, lang=None, contributors_enabled=False, is_translator=False, is_translation_enabled=False, profile_background_color='F5F8FA', profile_background_image_url=None, profile_background_image_url_https=None, profile_background_tile=False, profile_image_url='http://abs.twimg.com/sticky/default_profile_images/default_profile_normal.png', profile_image_url_https='https://abs.twimg.com/sticky/default_profile_images/default_profile_normal.png', profile_link_color='1DA1F2', profile_sidebar_border_color='C0DEED', profile_sidebar_fill_color='DDEEF6', profile_text_color='333333', profile_use_background_image=True, has_extended_profile=False, default_profile=True, default_profile_image=True, following=False, follow_request_sent=False, notifications=False, translator_type='none'), user=User(_api=<tweepy.api.API object at 0x000002670EBA3FC8>, _json={'id': 1147311534797807616, 'id_str': '1147311534797807616', 'name': 'Prakoso', 'screen_name': 'Prakoso98543610', 'location': '', 'description': '', 'url': None, 'entities': {'description': {'urls': []}}, 'protected': False, 'followers_count': 0, 'friends_count': 0, 'listed_count': 0, 'created_at': 'Sat Jul 06 01:09:20 +0000 2019', 'favourites_count': 1, 'utc_offset': None, 'time_zone': None, 'geo_enabled': False, 'verified': False, 'statuses_count': 1, 'lang': None, 'contributors_enabled': False, 'is_translator': False, 'is_translation_enabled': False, 'profile_background_color': 'F5F8FA', 'profile_background_image_url': None, 'profile_background_image_url_https': None, 'profile_background_tile': False, 'profile_image_url': 'http://abs.twimg.com/sticky/default_profile_images/default_profile_normal.png', 'profile_image_url_https': 'https://abs.twimg.com/sticky/default_profile_images/default_profile_normal.png', 'profile_link_color': '1DA1F2', 'profile_sidebar_border_color': 'C0DEED', 'profile_sidebar_fill_color': 'DDEEF6', 'profile_text_color': '333333', 'profile_use_background_image': True, 'has_extended_profile': False, 'default_profile': True, 'default_profile_image': True, 'following': False, 'follow_request_sent': False, 'notifications': False, 'translator_type': 'none'}, id=1147311534797807616, id_str='1147311534797807616', name='Prakoso', screen_name='Prakoso98543610', location='', description='', url=None, entities={'description': {'urls': []}}, protected=False, followers_count=0, friends_count=0, listed_count=0, created_at=datetime.datetime(2019, 7, 6, 1, 9, 20), favourites_count=1, utc_offset=None, time_zone=None, geo_enabled=False, verified=False, statuses_count=1, lang=None, contributors_enabled=False, is_translator=False, is_translation_enabled=False, profile_background_color='F5F8FA', profile_background_image_url=None, profile_background_image_url_https=None, profile_background_tile=False, profile_image_url='http://abs.twimg.com/sticky/default_profile_images/default_profile_normal.png', profile_image_url_https='https://abs.twimg.com/sticky/default_profile_images/default_profile_normal.png', profile_link_color='1DA1F2', profile_sidebar_border_color='C0DEED', profile_sidebar_fill_color='DDEEF6', profile_text_color='333333', profile_use_background_image=True, has_extended_profile=False, default_profile=True, default_profile_image=True, following=False, follow_request_sent=False, notifications=False, translator_type='none'), geo=None, coordinates=None, place=None, contributors=None, is_quote_status=False, retweet_count=0, favorite_count=0, favorited=False, retweeted=False, lang='en')"
      ]
     },
     "execution_count": 5,
     "metadata": {},
     "output_type": "execute_result"
    }
   ],
   "source": [
    "api.update_status(\"Test 123\")"
   ]
  },
  {
   "cell_type": "code",
   "execution_count": 13,
   "metadata": {},
   "outputs": [
    {
     "name": "stdout",
     "output_type": "stream",
     "text": [
      "Test 123 | Prakoso98543610 |  | 2020-03-13 04:04:44\n"
     ]
    }
   ],
   "source": [
    "#tampilan beranda\n",
    "\n",
    "status_tweet = api.home_timeline()\n",
    "\n",
    "for tweet in status_tweet:\n",
    "    print(tweet.text, \"|\", tweet.user.screen_name, \"|\", tweet.user.location, \"|\", tweet.created_at)"
   ]
  },
  {
   "cell_type": "code",
   "execution_count": 7,
   "metadata": {},
   "outputs": [
    {
     "name": "stdout",
     "output_type": "stream",
     "text": [
      "Test 123 Prakoso98543610 2020-03-13 04:04:44\n"
     ]
    }
   ],
   "source": [
    "#jumlah tertentu\n",
    "import tweepy\n",
    "for tweet in tweepy.Cursor(api.home_timeline).items(3):\n",
    "    print(tweet.text, tweet.user.screen_name, tweet.created_at)"
   ]
  },
  {
   "cell_type": "code",
   "execution_count": 10,
   "metadata": {},
   "outputs": [
    {
     "name": "stdout",
     "output_type": "stream",
     "text": [
      "Menghadapi wabah global virus korona, kita perlu menyesuaikan diri dengan kebiasaan-kebiasaan baru. Misalnya, tetap… https://t.co/KD2a64SEqJ\n",
      "Buah manggis misalnya, permintaan banyak dari Timur Tengah, Eropa, Tiongkok, tapi barangnya tidak ada.\n",
      "\n",
      "Padahal, de… https://t.co/9AuGn5kFx0\n",
      "Sektor pertanian cenderung menanam sejumlah komoditas yang tak banyak berubah sejak puluhan tahun. \n",
      "\n",
      "Butuh keberani… https://t.co/IP0CBPOXFd\n",
      "Mari bersama mencegah penyebaran korona dengan mengetahui enam hal tentang virus ini. https://t.co/bS9H1SCuBG\n",
      "Kunjungan Sri Baginda Raja Belanda Willem-Alexander dan Ratu Máxima menjelang Indonesia memasuki usia 75 tahun ini… https://t.co/sLHn0Hpfmd\n",
      "Selamat datang di Indonesia, Yang Mulia Raja Belanda Willem-Alexander dan Ratu Maxima Zorreguieta Cerruti. https://t.co/a1szjNfWHN\n",
      "Cuci tangan itu penting untuk mencegah datangnya penyakit, asal tahu caranya. Ini tips mencuci tangan yang benar da… https://t.co/3VDXV1RXkB\n",
      "Kita boleh khawatir atas virus korona, tapi tidak perlu panik. Kita bisa melewatinya dengan bersatu, bekerja sama,… https://t.co/17YY1TvmWn\n",
      "Sebagaimana lebih 70 negara lain, virus korona telah menjangkiti beberapa warga kita. Saya memahami keresahan yang… https://t.co/I7j2H1cTn6\n",
      "Musuh terbesar kita saat ini bukanlah virus korona itu sendiri, tapi rasa cemas, panik, dan ketakutan yang berlebih… https://t.co/dzSaVFJXvo\n",
      "Sudah beberapa tahun program tol laut diluncurkan untuk mengurangi disparitas harga dan biaya logistik antarwilayah… https://t.co/ocswX3aDbI\n",
      "Lapisan masyarakat itulah yang akan fokus disasar pemerintah.\n",
      "Program bantuan sosial pemerintah seperti Jaminan Kes… https://t.co/u7V0NYIMm4\n",
      "Angka kemiskinan September 2019 sebesar 9,22 %. Tinggal satu digit, tapi masih ada 24,7 juta jiwa yang harus dienta… https://t.co/MRlVAcAT4K\n",
      "Masyarakat tidak perlu panik sampai memborong kebutuhan sehari-hari. Pemerintah menjamin ketersediaan bahan pokok d… https://t.co/4CSiABVGNC\n",
      "Saya telah memerintahkan menteri untuk mengingatkan agar rumah sakit dan pejabat pemerintah untuk tidak membuka pri… https://t.co/dzaHLplKcc\n",
      "Virus korona ini gejalanya mirip flu, dan faktanya, sebagian besar pasien baik di RRT, Jepang, Iran, sampai Italia… https://t.co/8JgErNDWJC\n",
      "Dua warga negara Indonesia tengah dirawat di Jakarta karena positif terinfeksi virus korona. Pemerintah berupaya ma… https://t.co/ogC4gnoegQ\n",
      "Keduanya saat ini sudah dalam perawatan di Jakarta sesuai dengan standar yang berlaku secara internasional. \n",
      "\n",
      "Pemer… https://t.co/0XODLeC5Ok\n",
      "Kita sudah menelusuri informasi tentang warga negara Jepang yang positif korona dan sebelumnya mengunjungi  Indones… https://t.co/8ksq6uvAjc\n",
      "Yang telah memiliki nomor pokok wajib pajak (NPWP), mari laporkan SPT. Yang telah punya penghasilan namun belum mem… https://t.co/yKs1qffK2O\n"
     ]
    }
   ],
   "source": [
    "#ambil berdasarkan user id\n",
    "\n",
    "tweet_status = api.user_timeline(id=\"jokowi\")\n",
    "\n",
    "for tweet in tweet_status:\n",
    "    print(tweet.text)"
   ]
  },
  {
   "cell_type": "code",
   "execution_count": 11,
   "metadata": {},
   "outputs": [
    {
     "name": "stdout",
     "output_type": "stream",
     "text": [
      "Menghadapi wabah global virus korona, kita perlu menyesuaikan diri dengan kebiasaan-kebiasaan baru. Misalnya, tetap… https://t.co/KD2a64SEqJ\n",
      "Buah manggis misalnya, permintaan banyak dari Timur Tengah, Eropa, Tiongkok, tapi barangnya tidak ada.\n",
      "\n",
      "Padahal, de… https://t.co/9AuGn5kFx0\n",
      "Sektor pertanian cenderung menanam sejumlah komoditas yang tak banyak berubah sejak puluhan tahun. \n",
      "\n",
      "Butuh keberani… https://t.co/IP0CBPOXFd\n",
      "Mari bersama mencegah penyebaran korona dengan mengetahui enam hal tentang virus ini. https://t.co/bS9H1SCuBG\n",
      "Kunjungan Sri Baginda Raja Belanda Willem-Alexander dan Ratu Máxima menjelang Indonesia memasuki usia 75 tahun ini… https://t.co/sLHn0Hpfmd\n"
     ]
    }
   ],
   "source": [
    "for tweet in tweepy.Cursor(api.user_timeline,id=\"jokowi\").items(5):\n",
    "    print(tweet.text)"
   ]
  },
  {
   "cell_type": "code",
   "execution_count": 20,
   "metadata": {},
   "outputs": [],
   "source": [
    "#simpan data tweet ke file csv\n",
    "import pandas as pd\n",
    "tweets = []\n",
    "\n",
    "for tweet in tweepy.Cursor(api.user_timeline, id=\"jokowi\").items(7):\n",
    "    tweets.append((tweet.text, tweet.created_at, tweet.user.location))\n",
    "    tweetsdata = pd.DataFrame(tweets, columns= [\"data tweet\",\"tanggal\",\"lokasi\"])\n",
    "    tweetsdata.to_csv(\"DataJokowi.csv\")"
   ]
  },
  {
   "cell_type": "code",
   "execution_count": 24,
   "metadata": {},
   "outputs": [],
   "source": [
    "tweets = []\n",
    "\n",
    "for tweet in tweepy.Cursor(api.search, q =\"#corona\", since=\"2020-02-03\").items(10):\n",
    "    tweets.append((tweet.text, tweet.created_at, tweet.user.location))\n",
    "    tweetsdata = pd.DataFrame(tweets, columns = [\"data tweet\", \"tanggal\", \"lokasi\"])\n",
    "    tweetsdata.to_csv(\"DataCorona.csv\")"
   ]
  },
  {
   "cell_type": "code",
   "execution_count": 29,
   "metadata": {},
   "outputs": [],
   "source": [
    "# mengambil data secara live\n",
    "\n",
    "class MyStreamListener(tweepy.StreamListener):\n",
    "    def on_status(self, status):\n",
    "        print (status.text, status.user.location, status.user.screen.name, status.created_at)\n",
    "        \n",
    "stream = tweepy.Stream(auth, MyStreamListener())\n",
    "stream.filter(track= ['corona','wuhan'])"
   ]
  },
  {
   "cell_type": "code",
   "execution_count": null,
   "metadata": {},
   "outputs": [],
   "source": []
  }
 ],
 "metadata": {
  "kernelspec": {
   "display_name": "Python 3",
   "language": "python",
   "name": "python3"
  },
  "language_info": {
   "codemirror_mode": {
    "name": "ipython",
    "version": 3
   },
   "file_extension": ".py",
   "mimetype": "text/x-python",
   "name": "python",
   "nbconvert_exporter": "python",
   "pygments_lexer": "ipython3",
   "version": "3.7.4"
  }
 },
 "nbformat": 4,
 "nbformat_minor": 2
}
