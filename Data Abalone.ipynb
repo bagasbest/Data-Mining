{
 "cells": [
  {
   "cell_type": "code",
   "execution_count": 2,
   "metadata": {},
   "outputs": [],
   "source": [
    "import pandas as pd\n",
    "import matplotlib.pyplot as plt\n",
    "import scipy.stats as stats\n",
    "%matplotlib inline"
   ]
  },
  {
   "cell_type": "code",
   "execution_count": 5,
   "metadata": {},
   "outputs": [
    {
     "name": "stdout",
     "output_type": "stream",
     "text": [
      "Total Sampel Data Abalone: 4177 Sampel\n"
     ]
    },
    {
     "data": {
      "text/html": [
       "<div>\n",
       "<style scoped>\n",
       "    .dataframe tbody tr th:only-of-type {\n",
       "        vertical-align: middle;\n",
       "    }\n",
       "\n",
       "    .dataframe tbody tr th {\n",
       "        vertical-align: top;\n",
       "    }\n",
       "\n",
       "    .dataframe thead th {\n",
       "        text-align: right;\n",
       "    }\n",
       "</style>\n",
       "<table border=\"1\" class=\"dataframe\">\n",
       "  <thead>\n",
       "    <tr style=\"text-align: right;\">\n",
       "      <th></th>\n",
       "      <th>Jenis_kelamin</th>\n",
       "      <th>Panjang</th>\n",
       "      <th>Diameter</th>\n",
       "      <th>Tinggi</th>\n",
       "      <th>Berat_tubuh</th>\n",
       "      <th>Berat_badan</th>\n",
       "      <th>Berat_organ</th>\n",
       "      <th>Berat_cangkang</th>\n",
       "      <th>Rings</th>\n",
       "    </tr>\n",
       "  </thead>\n",
       "  <tbody>\n",
       "    <tr>\n",
       "      <td>0</td>\n",
       "      <td>M</td>\n",
       "      <td>0.455</td>\n",
       "      <td>0.365</td>\n",
       "      <td>0.095</td>\n",
       "      <td>0.5140</td>\n",
       "      <td>0.2245</td>\n",
       "      <td>0.1010</td>\n",
       "      <td>0.150</td>\n",
       "      <td>15</td>\n",
       "    </tr>\n",
       "    <tr>\n",
       "      <td>1</td>\n",
       "      <td>M</td>\n",
       "      <td>0.350</td>\n",
       "      <td>0.265</td>\n",
       "      <td>0.090</td>\n",
       "      <td>0.2255</td>\n",
       "      <td>0.0995</td>\n",
       "      <td>0.0485</td>\n",
       "      <td>0.070</td>\n",
       "      <td>7</td>\n",
       "    </tr>\n",
       "    <tr>\n",
       "      <td>2</td>\n",
       "      <td>F</td>\n",
       "      <td>0.530</td>\n",
       "      <td>0.420</td>\n",
       "      <td>0.135</td>\n",
       "      <td>0.6770</td>\n",
       "      <td>0.2565</td>\n",
       "      <td>0.1415</td>\n",
       "      <td>0.210</td>\n",
       "      <td>9</td>\n",
       "    </tr>\n",
       "    <tr>\n",
       "      <td>3</td>\n",
       "      <td>M</td>\n",
       "      <td>0.440</td>\n",
       "      <td>0.365</td>\n",
       "      <td>0.125</td>\n",
       "      <td>0.5160</td>\n",
       "      <td>0.2155</td>\n",
       "      <td>0.1140</td>\n",
       "      <td>0.155</td>\n",
       "      <td>10</td>\n",
       "    </tr>\n",
       "    <tr>\n",
       "      <td>4</td>\n",
       "      <td>I</td>\n",
       "      <td>0.330</td>\n",
       "      <td>0.255</td>\n",
       "      <td>0.080</td>\n",
       "      <td>0.2050</td>\n",
       "      <td>0.0895</td>\n",
       "      <td>0.0395</td>\n",
       "      <td>0.055</td>\n",
       "      <td>7</td>\n",
       "    </tr>\n",
       "  </tbody>\n",
       "</table>\n",
       "</div>"
      ],
      "text/plain": [
       "  Jenis_kelamin  Panjang  Diameter  Tinggi  Berat_tubuh  Berat_badan  \\\n",
       "0             M    0.455     0.365   0.095       0.5140       0.2245   \n",
       "1             M    0.350     0.265   0.090       0.2255       0.0995   \n",
       "2             F    0.530     0.420   0.135       0.6770       0.2565   \n",
       "3             M    0.440     0.365   0.125       0.5160       0.2155   \n",
       "4             I    0.330     0.255   0.080       0.2050       0.0895   \n",
       "\n",
       "   Berat_organ  Berat_cangkang  Rings  \n",
       "0       0.1010           0.150     15  \n",
       "1       0.0485           0.070      7  \n",
       "2       0.1415           0.210      9  \n",
       "3       0.1140           0.155     10  \n",
       "4       0.0395           0.055      7  "
      ]
     },
     "execution_count": 5,
     "metadata": {},
     "output_type": "execute_result"
    }
   ],
   "source": [
    "column_name = [\"Jenis_kelamin\", \"Panjang\", \"Diameter\", \"Tinggi\", \"Berat_tubuh\",\n",
    "               \"Berat_badan\", \"Berat_organ\", \"Berat_cangkang\", \"Rings\"]\n",
    "\n",
    "df = pd.read_csv(\"abalone.data\", names=column_name)\n",
    "print(\"Total Sampel Data Abalone: %d\" %len(df) + \" Sampel\")\n",
    "df.head()"
   ]
  },
  {
   "cell_type": "code",
   "execution_count": 6,
   "metadata": {},
   "outputs": [
    {
     "name": "stdout",
     "output_type": "stream",
     "text": [
      "<class 'pandas.core.frame.DataFrame'>\n",
      "RangeIndex: 4177 entries, 0 to 4176\n",
      "Data columns (total 9 columns):\n",
      "Jenis_kelamin     4177 non-null object\n",
      "Panjang           4177 non-null float64\n",
      "Diameter          4177 non-null float64\n",
      "Tinggi            4177 non-null float64\n",
      "Berat_tubuh       4177 non-null float64\n",
      "Berat_badan       4177 non-null float64\n",
      "Berat_organ       4177 non-null float64\n",
      "Berat_cangkang    4177 non-null float64\n",
      "Rings             4177 non-null int64\n",
      "dtypes: float64(7), int64(1), object(1)\n",
      "memory usage: 293.8+ KB\n"
     ]
    }
   ],
   "source": [
    "#Informasi Data Abalone\n",
    "df.info()"
   ]
  },
  {
   "cell_type": "code",
   "execution_count": 7,
   "metadata": {},
   "outputs": [
    {
     "data": {
      "text/plain": [
       "count     4177\n",
       "unique       3\n",
       "top          M\n",
       "freq      1528\n",
       "Name: Jenis_kelamin, dtype: object"
      ]
     },
     "execution_count": 7,
     "metadata": {},
     "output_type": "execute_result"
    }
   ],
   "source": [
    "#informasi jenis kelamin\n",
    "df.Jenis_kelamin.describe()"
   ]
  },
  {
   "cell_type": "code",
   "execution_count": 32,
   "metadata": {},
   "outputs": [
    {
     "data": {
      "text/plain": [
       "F    0.312904\n",
       "I    0.321283\n",
       "M    0.365813\n",
       "Name: Jenis_kelamin, dtype: float64"
      ]
     },
     "execution_count": 32,
     "metadata": {},
     "output_type": "execute_result"
    }
   ],
   "source": [
    "#lakukan pengurutan secara menaik agar data tersusun rapih\n",
    "df.Jenis_kelamin.value_counts(normalize=True).sort_index()"
   ]
  },
  {
   "cell_type": "code",
   "execution_count": 135,
   "metadata": {},
   "outputs": [
    {
     "data": {
      "image/png": "[encoded data removed]",
      "text/plain": [
       "<Figure size 720x432 with 1 Axes>"
      ]
     },
     "metadata": {
      "needs_background": "light"
     },
     "output_type": "display_data"
    }
   ],
   "source": [
    "#Visualisasi Histogram untuk jenis kelamin\n",
    "df_sex_category = df.Jenis_kelamin.value_counts(normalize=True).sort_index()\n",
    "x = range(len(df_sex_category))\n",
    "figure = plt.figure(figsize=(10,6))\n",
    "axes1 = figure.add_subplot(1,2,1)\n",
    "axes1.bar(x, df_sex_category, color=\"yellow\", align=\"center\")\n",
    "axes1.set_xticks(x)\n",
    "#set x axis tick labels\n",
    "axes1.set_xticklabels(df_sex_category.axes[0])\n",
    "#set x and y axis chart label\n",
    "axes1.set_title(\"Histogram dari Jenis kelamin Abalone\")\n",
    "axes1.set_ylabel(\"Densitas\")\n",
    "axes1.xaxis.grid(False)\n",
    "#remove all of the axis tick marks\n",
    "axes1.tick_params(bottom=False, top=False, left=False, right=False)\n",
    "#hide all of spines\n",
    "for spine in axes1.spines.values():\n",
    "    spine.set_visible(False)\n",
    "axes1.yaxis.grid(b=True, which=\"major\");"
   ]
  },
  {
   "cell_type": "code",
   "execution_count": 9,
   "metadata": {},
   "outputs": [
    {
     "data": {
      "image/png": "[encoded data removed]",
      "text/plain": [
       "<Figure size 1440x432 with 1 Axes>"
      ]
     },
     "metadata": {
      "needs_background": "light"
     },
     "output_type": "display_data"
    }
   ],
   "source": [
    "#visualisasi histogram untuk berat tuhuh Abalone\n",
    "#figure digunakan untuk memetakan dasar dari histogram\n",
    "figure = plt.figure(figsize=(20,6))\n",
    "\n",
    "#axes berperan penting dalam visualisasi informasi berupa histogram\n",
    "axes = figure.add_subplot(1,2,2)\n",
    "axes.hist(df.Berat_tubuh, density=True, alpha=0.75, color=\"green\")\n",
    "\n",
    "#penulis melakukan set pada title, densitas pada y-axis, dan berat tubuh pada x-axis\n",
    "axes.set_title(\"Histogram densitas terhadap berat tubuh Abalone\")\n",
    "axes.set_ylabel(\"Densitas\")\n",
    "axes.set_xlabel(\"Berat tubuh\")\n",
    "#grid false karena menggunakan densitas\n",
    "axes.xaxis.grid(False)\n",
    "\n",
    "#remove all of the axis tick marks\n",
    "axes.tick_params(bottom=False, top=False, left=False, right=False)\n",
    "#hide all of spines\n",
    "for spine in axes.spines.values():\n",
    "    spine.set_visible(False)\n",
    "axes.yaxis.grid(b=True, which=\"major\");"
   ]
  },
  {
   "cell_type": "code",
   "execution_count": 10,
   "metadata": {},
   "outputs": [
    {
     "data": {
      "image/png": "[encoded data removed]",
      "text/plain": [
       "<Figure size 432x432 with 1 Axes>"
      ]
     },
     "metadata": {
      "needs_background": "light"
     },
     "output_type": "display_data"
    }
   ],
   "source": [
    "#Kurva \n",
    "#tampilkan kurva perbandingan besaran rings terhadap kuantil teori\n",
    "figure = plt.figure(figsize=(6, 6))\n",
    "axes = figure.add_subplot(1, 1, 1)\n",
    "stats.probplot(df.Rings, dist=\"norm\", plot=axes)\n",
    "axes.set(title=\"Besaran Rings\")\n",
    "axes.xaxis.grid(False)\n",
    "plt.show()\n",
    "plt.close()"
   ]
  },
  {
   "cell_type": "code",
   "execution_count": 129,
   "metadata": {},
   "outputs": [
    {
     "data": {
      "image/png": "[encoded data removed]",
      "text/plain": [
       "<Figure size 1440x720 with 1 Axes>"
      ]
     },
     "metadata": {
      "needs_background": "light"
     },
     "output_type": "display_data"
    }
   ],
   "source": [
    "#visualisasi Grafik untuk panjang Abalone\n",
    "figure = plt.figure(figsize=(20,10))\n",
    "\n",
    "axes = figure.add_subplot(1,2,2)\n",
    "axes.hist(df.Panjang, density=True, alpha=0.75, color=\"green\")\n",
    "axes.hist(df.Diameter, density=True, alpha=0.75, color=\"red\")\n",
    "\n",
    "axes.set_title(\"Grafik densitas Diameter tubuh Abalone terhadap berat tubuh Abalone\")\n",
    "axes.set_ylabel(\"Densitas\")\n",
    "axes.set_xlabel(\"Merah = Diameter Abalone; Hijau = Berat tubuh Abalone\")\n",
    "axes.xaxis.grid(False)\n",
    "\n",
    "#remove all of the axis tick marks\n",
    "axes.tick_params(bottom=False, top=False, left=False, right=False)\n",
    "#hide all of spines\n",
    "for spine in axes.spines.values():\n",
    "    spine.set_visible(False)\n",
    "axes.yaxis.grid(b=True, which=\"major\");\n"
   ]
  },
  {
   "cell_type": "code",
   "execution_count": null,
   "metadata": {},
   "outputs": [],
   "source": []
  },
  {
   "cell_type": "code",
   "execution_count": null,
   "metadata": {},
   "outputs": [],
   "source": []
  }
 ],
 "metadata": {
  "kernelspec": {
   "display_name": "Python 3",
   "language": "python",
   "name": "python3"
  },
  "language_info": {
   "codemirror_mode": {
    "name": "ipython",
    "version": 3
   },
   "file_extension": ".py",
   "mimetype": "text/x-python",
   "name": "python",
   "nbconvert_exporter": "python",
   "pygments_lexer": "ipython3",
   "version": "3.7.4"
  }
 },
 "nbformat": 4,
 "nbformat_minor": 2
}
